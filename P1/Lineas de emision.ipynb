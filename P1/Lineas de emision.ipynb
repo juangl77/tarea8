{
 "metadata": {
  "name": "",
  "signature": "sha256:df4d9b757ab5dbdd37c2eca79a99a5f87ba64ab2162989599e5a700464b41fe0"
 },
 "nbformat": 3,
 "nbformat_minor": 0,
 "worksheets": [
  {
   "cells": [
    {
     "cell_type": "code",
     "collapsed": false,
     "input": [
      "%pylab inline"
     ],
     "language": "python",
     "metadata": {},
     "outputs": [
      {
       "output_type": "stream",
       "stream": "stdout",
       "text": [
        "Populating the interactive namespace from numpy and matplotlib\n"
       ]
      }
     ],
     "prompt_number": 219
    },
    {
     "cell_type": "code",
     "collapsed": false,
     "input": [
      "#Se cargan los datos de las observaciones\n",
      "datos=loadtxt(\"energy_counts.dat\")\n",
      "sh=shape(datos)\n",
      "n_ener_datos=datos[:,0]\n",
      "n_cuen_datos=datos[:,1]\n",
      "#Gr\u00e1fica de los datos\n",
      "scatter(n_ener_datos,n_cuen_datos)"
     ],
     "language": "python",
     "metadata": {},
     "outputs": [
      {
       "metadata": {},
       "output_type": "pyout",
       "prompt_number": 220,
       "text": [
        "<matplotlib.collections.PathCollection at 0x5ca0e90>"
       ]
      },
      {
       "metadata": {},
       "output_type": "display_data",
       "png": "[encoded data removed]",
       "text": [
        "<matplotlib.figure.Figure at 0x3c2c4d0>"
       ]
      }
     ],
     "prompt_number": 220
    },
    {
     "cell_type": "code",
     "collapsed": false,
     "input": [
      "#Funcion Likelihood sin exponencial. En su forma original da siempre cero\n",
      "def Likelihood(n_cuen_datos, n_cuen_modelo):\n",
      "    chi_cuadrado = sum((n_cuen_datos-n_cuen_modelo)**2)\n",
      "    return chi_cuadrado"
     ],
     "language": "python",
     "metadata": {},
     "outputs": [],
     "prompt_number": 221
    },
    {
     "cell_type": "code",
     "collapsed": false,
     "input": [
      "#Modelo f\u00edsico\n",
      "def mi_modelo(n_ener_datos, A, B, Eo, sigma, alpha):\n",
      "    return ( A * (n_ener_datos**alpha) ) + ( B * exp(-( (n_ener_datos-Eo) / (sqrt(2)*sigma) )**2) )"
     ],
     "language": "python",
     "metadata": {},
     "outputs": [],
     "prompt_number": 222
    },
    {
     "cell_type": "code",
     "collapsed": false,
     "input": [
      "#Listas vacias que guardan los pasos\n",
      "paso_A = empty((0)) \n",
      "paso_B = empty((0))\n",
      "paso_Eo = empty((0))\n",
      "paso_sigma = empty((0))\n",
      "paso_alpha = empty((0))\n",
      "paso_L = empty((0))\n",
      "\n",
      "#Inicializaci\u00f3n de pasos. Los valores se estimaron tras correr varias veces el programa\n",
      "A_o = 10**16\n",
      "paso_A = append(paso_A, A_o)\n",
      "B_o = 10**3\n",
      "paso_B = append(paso_B, B_o)\n",
      "Eo_o = 1.387*10**3\n",
      "paso_Eo = append(paso_Eo, Eo_o)\n",
      "sigma_o = 0\n",
      "paso_sigma = append(paso_sigma, sigma_o)\n",
      "alpha_o = 10**2\n",
      "paso_alpha = append(paso_alpha, alpha_o)\n",
      "\n",
      "n_cuen_inicial = mi_modelo(n_ener_datos, paso_A[0], paso_B[0], paso_Eo[0], paso_sigma[0], paso_alpha[0])\n",
      "paso_L = append(paso_L, Likelihood(n_cuen_datos, n_cuen_inicial))\n",
      "\n",
      "print paso_A\n",
      "print paso_B\n",
      "print paso_Eo\n",
      "print paso_sigma\n",
      "print paso_alpha\n",
      "print paso_L"
     ],
     "language": "python",
     "metadata": {},
     "outputs": [
      {
       "output_type": "stream",
       "stream": "stdout",
       "text": [
        "[  1.00000000e+16]\n",
        "[ 1000.]\n",
        "[ 1387.]\n",
        "[ 0.]\n",
        "[ 100.]\n",
        "[ inf]\n"
       ]
      }
     ],
     "prompt_number": 223
    },
    {
     "cell_type": "code",
     "collapsed": false,
     "input": [
      "n_iteraciones = 100000 \n",
      "for i in range(n_iteraciones-1):\n",
      "    #Se define el paso de cada variable como 3 ordenes de magnitud menos que el valor de inicializacion\n",
      "    A_prima = np.random.normal(paso_A[i], 10**13) \n",
      "    B_prima = np.random.normal(paso_B[i], 10**0)\n",
      "    Eo_prima = np.random.normal(paso_Eo[i], 10**0)\n",
      "    sigma_prima = np.random.normal(paso_sigma[i], 10**-2)\n",
      "    alpha_prima = np.random.normal(paso_alpha[i], 10**-1)\n",
      "    \n",
      "    n_cuen_inicial = mi_modelo(n_ener_datos, paso_A[i], paso_B[i], paso_Eo[i], paso_sigma[i], paso_alpha[i])\n",
      "    n_cuen_prima = mi_modelo(n_ener_datos, A_prima, B_prima, Eo_prima, sigma_prima, alpha_prima)\n",
      "    \n",
      "    L_prima = Likelihood(n_cuen_datos, n_cuen_prima)\n",
      "    L_inicial = Likelihood(n_cuen_datos, n_cuen_inicial)\n",
      "    \n",
      "    Alpha = L_inicial-L_prima\n",
      "    \n",
      "    if(Alpha>0.0):\n",
      "        paso_A  = append(paso_A,A_prima)\n",
      "        paso_B  = append(paso_B,B_prima)\n",
      "        paso_Eo  = append(paso_Eo,Eo_prima)\n",
      "        paso_sigma  = append(paso_sigma,sigma_prima)\n",
      "        paso_alpha  = append(paso_alpha,alpha_prima)\n",
      "        paso_L  = append(paso_L,L_prima)\n",
      "\n",
      "    else:\n",
      "        Beta = random.random()\n",
      "        if(log(Beta)<=Alpha):\n",
      "            paso_A  = append(paso_A,A_prima)\n",
      "            paso_B  = append(paso_B,B_prima)\n",
      "            paso_Eo  = append(paso_Eo,Eo_prima)\n",
      "            paso_sigma  = append(paso_sigma,sigma_prima)\n",
      "            paso_alpha  = append(paso_alpha,alpha_prima)\n",
      "            paso_L  = append(paso_L,L_prima)\n",
      "            \n",
      "        else:\n",
      "            paso_A  = append(paso_A,paso_A[i])\n",
      "            paso_B  = append(paso_B,paso_B[i])\n",
      "            paso_Eo  = append(paso_Eo,paso_Eo[i])\n",
      "            paso_sigma  = append(paso_sigma,paso_sigma[i])\n",
      "            paso_alpha  = append(paso_alpha,paso_alpha[i])\n",
      "            paso_L  = append(paso_L,L_inicial)"
     ],
     "language": "python",
     "metadata": {},
     "outputs": [],
     "prompt_number": 224
    },
    {
     "cell_type": "code",
     "collapsed": false,
     "input": [
      "max_Likelihood_id = argmin(paso_L)\n",
      "mejor_A = paso_A[max_Likelihood_id]\n",
      "mejor_B = paso_B[max_Likelihood_id]\n",
      "mejor_Eo = paso_Eo[max_Likelihood_id]\n",
      "mejor_sigma = paso_sigma[max_Likelihood_id]\n",
      "mejor_alpha = paso_alpha[max_Likelihood_id]\n",
      "\n",
      "print \"El valor de A es\", mejor_A\n",
      "print \"El valor de B es\", mejor_B\n",
      "print \"El valor de E_0 es\", mejor_Eo\n",
      "print \"El valor de sigma es\", mejor_sigma\n",
      "print \"El valor de alpha es\", mejor_alpha\n",
      "\n",
      "#scatter(n_ener_datos,n_cuen_datos)\n",
      "plot(n_ener_datos,mi_modelo(n_ener_datos, mejor_A, mejor_B, mejor_Eo, mejor_sigma, mejor_alpha))\n",
      "show()"
     ],
     "language": "python",
     "metadata": {},
     "outputs": [
      {
       "output_type": "stream",
       "stream": "stdout",
       "text": [
        "El valor de A es 1e+16\n",
        "El valor de B es 1000.0\n",
        "El valor de E_0 es 1387.0\n",
        "El valor de sigma es 0.0\n",
        "El valor de alpha es 100.0\n"
       ]
      },
      {
       "metadata": {},
       "output_type": "display_data",
       "png": "[encoded data removed]",
       "text": [
        "<matplotlib.figure.Figure at 0x5896090>"
       ]
      }
     ],
     "prompt_number": 225
    },
    {
     "cell_type": "code",
     "collapsed": false,
     "input": [],
     "language": "python",
     "metadata": {},
     "outputs": []
    }
   ],
   "metadata": {}
  }
 ]
}